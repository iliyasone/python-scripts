{
 "cells": [
  {
   "cell_type": "code",
   "execution_count": 10,
   "metadata": {},
   "outputs": [],
   "source": [
    "import itertools"
   ]
  },
  {
   "cell_type": "code",
   "execution_count": 25,
   "metadata": {},
   "outputs": [
    {
     "data": {
      "text/plain": [
       "('В', 'Б', 'A', 'Г', 'Д')"
      ]
     },
     "execution_count": 25,
     "metadata": {},
     "output_type": "execute_result"
    }
   ],
   "source": [
    "alphabet = \"AБВГД\"\n",
    "\n",
    "sorted(list(itertools.permutations(alphabet)))[54]"
   ]
  },
  {
   "cell_type": "code",
   "execution_count": 27,
   "metadata": {},
   "outputs": [
    {
     "data": {
      "text/plain": [
       "[('1', '1'),\n",
       " ('1', '2'),\n",
       " ('1', '3'),\n",
       " ('2', '1'),\n",
       " ('2', '2'),\n",
       " ('2', '3'),\n",
       " ('3', '1'),\n",
       " ('3', '2'),\n",
       " ('3', '3')]"
      ]
     },
     "execution_count": 27,
     "metadata": {},
     "output_type": "execute_result"
    }
   ],
   "source": [
    "list(itertools.product(\"123\", repeat=2))"
   ]
  },
  {
   "cell_type": "code",
   "execution_count": 30,
   "metadata": {},
   "outputs": [
    {
     "data": {
      "text/plain": [
       "[('Петя', 'Вася', 'Таня'),\n",
       " ('Петя', 'Вася', 'Маша'),\n",
       " ('Петя', 'Вася', 'Саша'),\n",
       " ('Петя', 'Таня', 'Маша'),\n",
       " ('Петя', 'Таня', 'Саша'),\n",
       " ('Петя', 'Маша', 'Саша'),\n",
       " ('Вася', 'Таня', 'Маша'),\n",
       " ('Вася', 'Таня', 'Саша'),\n",
       " ('Вася', 'Маша', 'Саша'),\n",
       " ('Таня', 'Маша', 'Саша')]"
      ]
     },
     "execution_count": 30,
     "metadata": {},
     "output_type": "execute_result"
    }
   ],
   "source": [
    "workers = ['Петя', 'Вася', 'Таня', 'Маша', 'Саша', ]\n",
    "\n",
    "list(itertools.combinations(workers, 3))"
   ]
  }
 ],
 "metadata": {
  "kernelspec": {
   "display_name": "Python 3",
   "language": "python",
   "name": "python3"
  },
  "language_info": {
   "codemirror_mode": {
    "name": "ipython",
    "version": 3
   },
   "file_extension": ".py",
   "mimetype": "text/x-python",
   "name": "python",
   "nbconvert_exporter": "python",
   "pygments_lexer": "ipython3",
   "version": "3.11.4"
  }
 },
 "nbformat": 4,
 "nbformat_minor": 2
}
