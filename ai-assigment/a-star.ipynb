{
 "cells": [
  {
   "cell_type": "code",
   "execution_count": 1,
   "metadata": {},
   "outputs": [],
   "source": [
    "from enum import Flag, auto\n",
    "N = 9\n",
    "\n",
    "class NodeType(Flag):\n",
    "    E = auto()\n",
    "    \"\"\"Empty\"\"\"\n",
    "    \n",
    "    P = auto()\n",
    "    \"\"\"Perception zone of an enemy\"\"\"\n",
    "\n",
    "    H = auto()\n",
    "    \"\"\"Hulk\"\"\"\n",
    "    \n",
    "    T = auto()\n",
    "    \"\"\"Thor\"\"\"\n",
    "        \n",
    "    M = auto()\n",
    "    \"\"\"Captain Marvel\"\"\"\n",
    "    \n",
    "    S = auto()\n",
    "    \"\"\"Captain America's shield\"\"\"\n",
    "    \n",
    "    I = auto()\n",
    "    \"\"\"The Infinity stone\"\"\"\n",
    "    \n",
    "    DangerZone = P | H | T | M | S"
   ]
  },
  {
   "cell_type": "code",
   "execution_count": 13,
   "metadata": {},
   "outputs": [],
   "source": [
    "from __future__ import annotations\n",
    "from dataclasses import dataclass\n",
    "\n",
    "@dataclass\n",
    "class Node:\n",
    "    x: int\n",
    "    y: int\n",
    "    node_type: NodeType | None = None\n",
    "    cost: float = float('inf') \n",
    "    \n",
    "    is_in_closed_set: bool = False\n",
    "    \n",
    "    \n",
    "    @property\n",
    "    def heuristic(self) -> float:\n",
    "        if self.node_type is None:\n",
    "            return -1\n",
    "        if self.node_type not in NodeType.DangerZone:\n",
    "            return self.distance(goal)\n",
    "        else:\n",
    "            return float('inf')\n",
    "        \n",
    "    def distance(self, destination: Node) -> int:\n",
    "        return abs(self.x - destination.x) + abs(self.y - destination.y)\n"
   ]
  },
  {
   "cell_type": "code",
   "execution_count": 14,
   "metadata": {},
   "outputs": [],
   "source": [
    "goal = Node(3, 1)"
   ]
  },
  {
   "cell_type": "code",
   "execution_count": 15,
   "metadata": {},
   "outputs": [
    {
     "data": {
      "text/plain": [
       "1"
      ]
     },
     "execution_count": 15,
     "metadata": {},
     "output_type": "execute_result"
    }
   ],
   "source": [
    "Node(1,0).distance(Node(2,0))"
   ]
  },
  {
   "cell_type": "code",
   "execution_count": 45,
   "metadata": {},
   "outputs": [
    {
     "data": {
      "text/plain": [
       "[(0, 1)]"
      ]
     },
     "execution_count": 45,
     "metadata": {},
     "output_type": "execute_result"
    }
   ],
   "source": [
    "def create_path(current_path, target_path):\n",
    "    min_length = min(len(current_path), len(target_path))\n",
    "    for i in range(min_length):\n",
    "        if current_path[i] != target_path[i]:\n",
    "            diverging_index = i\n",
    "            break\n",
    "    else:\n",
    "        diverging_index = min_length\n",
    "        \n",
    "    path = current_path[-2:diverging_index-1:-1]\n",
    "    path += target_path[diverging_index-1:-1]\n",
    "    return path\n",
    "\n",
    "\n",
    "path1 = [(0,0),(0,1),(0,2)]\n",
    "path2 = [(0,0),(0,1),(1,1)]\n",
    "create_path(path1, path2)"
   ]
  }
 ],
 "metadata": {
  "kernelspec": {
   "display_name": "Python 3",
   "language": "python",
   "name": "python3"
  },
  "language_info": {
   "codemirror_mode": {
    "name": "ipython",
    "version": 3
   },
   "file_extension": ".py",
   "mimetype": "text/x-python",
   "name": "python",
   "nbconvert_exporter": "python",
   "pygments_lexer": "ipython3",
   "version": "3.11.4"
  }
 },
 "nbformat": 4,
 "nbformat_minor": 2
}
