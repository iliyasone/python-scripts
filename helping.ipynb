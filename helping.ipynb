{
 "cells": [
  {
   "cell_type": "code",
   "execution_count": 1,
   "metadata": {},
   "outputs": [
    {
     "data": {
      "text/plain": [
       "['черешня', 'груши', 'яблоки']"
      ]
     },
     "execution_count": 1,
     "metadata": {},
     "output_type": "execute_result"
    }
   ],
   "source": [
    "['яблоки', 'груши', 'черешня', 'хуй'][2::-1]"
   ]
  },
  {
   "cell_type": "code",
   "execution_count": 5,
   "metadata": {},
   "outputs": [
    {
     "name": "stdout",
     "output_type": "stream",
     "text": [
      "8.88\n"
     ]
    }
   ],
   "source": [
    "countries = {'canada' : 8.88, 'finland' : 9.29, 'malta': 7.7}\n",
    "\n",
    "countries['spain'] = 8.07\n",
    "countries = sorted(countries.items())\n",
    "countries = countries[::2]\n",
    "countries = countries[-2][-1]\n",
    "print(countries)"
   ]
  },
  {
   "cell_type": "code",
   "execution_count": 2,
   "metadata": {},
   "outputs": [
    {
     "name": "stdout",
     "output_type": "stream",
     "text": [
      "['аааа', 'аааа', 'аупаыв', 'ввв']\n"
     ]
    }
   ],
   "source": [
    "products = []\n",
    "\n",
    "line = input()\n",
    "while line != 'КОНЕЦ':\n",
    "    price, name = line.split('-')\n",
    "    if int(price) > 450:\n",
    "        products.append(name)\n",
    "        \n",
    "    line = input()\n",
    "    \n",
    "print(sorted(products))"
   ]
  },
  {
   "cell_type": "code",
   "execution_count": 17,
   "metadata": {},
   "outputs": [
    {
     "name": "stdout",
     "output_type": "stream",
     "text": [
      "молоко, пизда\n"
     ]
    }
   ],
   "source": [
    "vitya = input().split()\n",
    "shop = input().split()\n",
    "price = input().split()\n",
    "\n",
    "items = [item for item in vitya if item in shop and item not in price]\n",
    "print(', '.join(sorted(items)))"
   ]
  },
  {
   "cell_type": "code",
   "execution_count": 6,
   "metadata": {},
   "outputs": [
    {
     "name": "stdout",
     "output_type": "stream",
     "text": [
      "огурцы\n",
      "морковь\n"
     ]
    }
   ],
   "source": [
    "# 11\n",
    "\n",
    "products = input().split(', ')\n",
    "calories = list(map(int, input().split(', ')))\n",
    "\n",
    "for product, calorie in zip(products, calories):\n",
    "    if 200 > calorie > 150:\n",
    "        print(product)"
   ]
  },
  {
   "cell_type": "code",
   "execution_count": 15,
   "metadata": {},
   "outputs": [],
   "source": [
    "# 13\n",
    "\n",
    "book_shop = {\n",
    "    'Читай-ка' : ['hui', 'pizda'],\n",
    "    'Nigga' : ['hui', 'blyadina'],\n",
    "    'China-Town' : ['pizdec', 'pizda', 'blyadina'] \n",
    "}\n",
    "\n",
    "book = input()\n",
    "\n",
    "# ВАШ КОД:\n",
    "\n",
    "for store, books in book_shop.items():\n",
    "    if book in books:\n",
    "        print(store)"
   ]
  },
  {
   "cell_type": "code",
   "execution_count": 20,
   "metadata": {},
   "outputs": [
    {
     "data": {
      "text/plain": [
       "['большие', 'высокие']"
      ]
     },
     "execution_count": 20,
     "metadata": {},
     "output_type": "execute_result"
    }
   ],
   "source": [
    "# 14\n",
    "\n",
    "def get_words(words: str, ending: str):\n",
    "    return sorted(word for word in words.split() if word.endswith(ending))\n",
    "\n",
    "get_words('большой большая высокие большие  хуевые', 'ие')"
   ]
  },
  {
   "cell_type": "code",
   "execution_count": 26,
   "metadata": {},
   "outputs": [
    {
     "data": {
      "text/plain": [
       "'pizda'"
      ]
     },
     "execution_count": 26,
     "metadata": {},
     "output_type": "execute_result"
    }
   ],
   "source": [
    "def choose_representative(data: dict):\n",
    "    return sorted(data.items(),key=lambda x: sum(x[1]), reverse=True)[0][0]\n",
    "\n",
    "\n",
    "choose_representative(\n",
    "    {\n",
    "        'hui' : [1,1,1,3],\n",
    "        'pizda' : [1,2,1,3],\n",
    "        'blyadina' : [1,1,0,1],\n",
    "        \n",
    "    }\n",
    ")"
   ]
  },
  {
   "cell_type": "code",
   "execution_count": null,
   "metadata": {},
   "outputs": [],
   "source": []
  }
 ],
 "metadata": {
  "kernelspec": {
   "display_name": "Python 3",
   "language": "python",
   "name": "python3"
  },
  "language_info": {
   "codemirror_mode": {
    "name": "ipython",
    "version": 3
   },
   "file_extension": ".py",
   "mimetype": "text/x-python",
   "name": "python",
   "nbconvert_exporter": "python",
   "pygments_lexer": "ipython3",
   "version": "3.11.4"
  },
  "orig_nbformat": 4
 },
 "nbformat": 4,
 "nbformat_minor": 2
}
