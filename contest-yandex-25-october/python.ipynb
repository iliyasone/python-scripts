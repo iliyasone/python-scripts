{
 "cells": [
  {
   "cell_type": "code",
   "execution_count": 9,
   "metadata": {},
   "outputs": [
    {
     "name": "stdout",
     "output_type": "stream",
     "text": [
      "[5, 3, 12, 4, 6, 1, 2]\n",
      "5 []\n",
      "3 [5]\n",
      "12 [3]\n",
      "4 [3, 12]\n",
      "6 [3, 4]\n",
      "1 [3, 4, 6]\n",
      "2 [1, 4, 6]\n",
      "[1, 2, 6]\n",
      "3\n"
     ]
    }
   ],
   "source": [
    "from bisect import bisect_left\n",
    "from typing import Sequence\n",
    "\n",
    "def gis(a: Sequence[int]) -> int:\n",
    "    tails = []  # Initialize an empty list to store the end elements of longest subsequences\n",
    "    \n",
    "    for x in a:\n",
    "        print(x, tails)\n",
    "        idx = bisect_left(tails, x)  # Find the index of the first element in tails that is >= x\n",
    "        \n",
    "        if idx == len(tails):\n",
    "            tails.append(x)  # If x is greater than all elements in tails, append it at the end\n",
    "        else:\n",
    "            tails[idx] = x  # Otherwise, replace the first element in tails that is >= x with x\n",
    "    \n",
    "    print(tails)\n",
    "    return len(tails)  # The length of tails is the length of the longest increasing subsequence\n",
    "\n",
    "# Test the function\n",
    "a = [5, 3, 12, 4, 6, 1, 2]\n",
    "print(a)\n",
    "print(gis(a))  # Output should be 6\n"
   ]
  },
  {
   "cell_type": "code",
   "execution_count": 24,
   "metadata": {},
   "outputs": [
    {
     "data": {
      "text/plain": [
       "0"
      ]
     },
     "execution_count": 24,
     "metadata": {},
     "output_type": "execute_result"
    }
   ],
   "source": [
    "def bin_search(a: Sequence[int], x: int):\n",
    "    # last smaller or equal\n",
    "    left, right = 0, len(a) - 1\n",
    "    ans = 0\n",
    "    while  left <= right:\n",
    "        middle = (left + right) // 2 \n",
    "        if a[middle] == x:\n",
    "            return middle\n",
    "        elif a[middle] < x:\n",
    "            ans = middle\n",
    "            left = middle + 1\n",
    "        else:\n",
    "            right = middle - 1\n",
    "    return ans\n",
    "\n",
    "\n",
    "bin_search((1,1,2,2,3,3), 1)"
   ]
  }
 ],
 "metadata": {
  "kernelspec": {
   "display_name": "Python 3",
   "language": "python",
   "name": "python3"
  },
  "language_info": {
   "codemirror_mode": {
    "name": "ipython",
    "version": 3
   },
   "file_extension": ".py",
   "mimetype": "text/x-python",
   "name": "python",
   "nbconvert_exporter": "python",
   "pygments_lexer": "ipython3",
   "version": "3.11.4"
  }
 },
 "nbformat": 4,
 "nbformat_minor": 2
}
