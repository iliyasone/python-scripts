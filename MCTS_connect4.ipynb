{
  "cells": [
    {
      "cell_type": "markdown",
      "metadata": {
        "id": "jyEBK0cEGGtN"
      },
      "source": [
        "# There are four phases of implementing MCTS:\n",
        "\n",
        "- Selection\n",
        "- Expansion\n",
        "- Rollout\n",
        "- Backpropagation"
      ]
    },
    {
      "cell_type": "markdown",
      "metadata": {
        "id": "sqFuHaUeIStq"
      },
      "source": [
        "# Meta\n",
        "### To do: Assign the exploration constant"
      ]
    },
    {
      "cell_type": "code",
      "execution_count": 32,
      "metadata": {
        "id": "nWtUUO2oINeQ"
      },
      "outputs": [],
      "source": [
        "import math\n",
        "\n",
        "class GameMeta:\n",
        "    PLAYERS = {'none': 0, 'one': 1, 'two': 2}\n",
        "    OUTCOMES = {'none': 0, 'one': 1, 'two': 2, 'draw': 3}\n",
        "    INF = float('inf')\n",
        "    ROWS = 6\n",
        "    COLS = 7\n",
        "\n",
        "\n",
        "class MCTSMeta:\n",
        "    # Exploration constant\n",
        "    EXPLORATION = 2**(1/2)"
      ]
    },
    {
      "cell_type": "markdown",
      "metadata": {
        "id": "yvoiJTTnImc8"
      },
      "source": [
        "# Game class (Connect 4)"
      ]
    },
    {
      "cell_type": "code",
      "execution_count": 33,
      "metadata": {
        "id": "7XhKDF7QIi2U"
      },
      "outputs": [],
      "source": [
        "from copy import deepcopy\n",
        "import numpy as np\n",
        "\n",
        "\n",
        "class ConnectState:\n",
        "    def __init__(self):\n",
        "        self.board = [[0] * GameMeta.COLS for _ in range(GameMeta.ROWS)]\n",
        "        self.to_play = GameMeta.PLAYERS['one']\n",
        "        self.height = [GameMeta.ROWS - 1] * GameMeta.COLS\n",
        "        self.last_played = []\n",
        "\n",
        "    def get_board(self):\n",
        "        return deepcopy(self.board)\n",
        "\n",
        "    def move(self, col):\n",
        "        self.board[self.height[col]][col] = self.to_play\n",
        "        self.last_played = [self.height[col], col]\n",
        "        self.height[col] -= 1\n",
        "        self.to_play = GameMeta.PLAYERS['two'] if self.to_play == GameMeta.PLAYERS['one'] else GameMeta.PLAYERS['one']\n",
        "\n",
        "    def get_legal_moves(self):\n",
        "        return [col for col in range(GameMeta.COLS) if self.board[0][col] == 0]\n",
        "\n",
        "    def check_win(self):\n",
        "        if len(self.last_played) > 0 and self.check_win_from(self.last_played[0], self.last_played[1]):\n",
        "            return self.board[self.last_played[0]][self.last_played[1]]\n",
        "        return 0\n",
        "\n",
        "    def check_win_from(self, row, col):\n",
        "        player = self.board[row][col]\n",
        "        \"\"\"\n",
        "        Last played action is at (row, col)\n",
        "        Check surrounding 7x7 grid for a win\n",
        "        \"\"\"\n",
        "\n",
        "        consecutive = 1\n",
        "        # Check horizontal\n",
        "        tmprow = row\n",
        "        while tmprow + 1 < GameMeta.ROWS and self.board[tmprow + 1][col] == player:\n",
        "            consecutive += 1\n",
        "            tmprow += 1\n",
        "        tmprow = row\n",
        "        while tmprow - 1 >= 0 and self.board[tmprow - 1][col] == player:\n",
        "            consecutive += 1\n",
        "            tmprow -= 1\n",
        "\n",
        "        if consecutive >= 4:\n",
        "            return True\n",
        "\n",
        "        # Check vertical\n",
        "        consecutive = 1\n",
        "        tmpcol = col\n",
        "        while tmpcol + 1 < GameMeta.COLS and self.board[row][tmpcol + 1] == player:\n",
        "            consecutive += 1\n",
        "            tmpcol += 1\n",
        "        tmpcol = col\n",
        "        while tmpcol - 1 >= 0 and self.board[row][tmpcol - 1] == player:\n",
        "            consecutive += 1\n",
        "            tmpcol -= 1\n",
        "\n",
        "        if consecutive >= 4:\n",
        "            return True\n",
        "\n",
        "        # Check diagonal\n",
        "        consecutive = 1\n",
        "        tmprow = row\n",
        "        tmpcol = col\n",
        "        while tmprow + 1 < GameMeta.ROWS and tmpcol + 1 < GameMeta.COLS and self.board[tmprow + 1][tmpcol + 1] == player:\n",
        "            consecutive += 1\n",
        "            tmprow += 1\n",
        "            tmpcol += 1\n",
        "        tmprow = row\n",
        "        tmpcol = col\n",
        "        while tmprow - 1 >= 0 and tmpcol - 1 >= 0 and self.board[tmprow - 1][tmpcol - 1] == player:\n",
        "            consecutive += 1\n",
        "            tmprow -= 1\n",
        "            tmpcol -= 1\n",
        "\n",
        "        if consecutive >= 4:\n",
        "            return True\n",
        "\n",
        "        # Check anti-diagonal\n",
        "        consecutive = 1\n",
        "        tmprow = row\n",
        "        tmpcol = col\n",
        "        while tmprow + 1 < GameMeta.ROWS and tmpcol - 1 >= 0 and self.board[tmprow + 1][tmpcol - 1] == player:\n",
        "            consecutive += 1\n",
        "            tmprow += 1\n",
        "            tmpcol -= 1\n",
        "        tmprow = row\n",
        "        tmpcol = col\n",
        "        while tmprow - 1 >= 0 and tmpcol + 1 < GameMeta.COLS and self.board[tmprow - 1][tmpcol + 1] == player:\n",
        "            consecutive += 1\n",
        "            tmprow -= 1\n",
        "            tmpcol += 1\n",
        "\n",
        "        if consecutive >= 4:\n",
        "            return True\n",
        "\n",
        "        return False\n",
        "\n",
        "    def game_over(self):\n",
        "        return self.check_win() or len(self.get_legal_moves()) == 0\n",
        "\n",
        "    def get_outcome(self):\n",
        "        if len(self.get_legal_moves()) == 0 and self.check_win() == 0:\n",
        "            return GameMeta.OUTCOMES['draw']\n",
        "\n",
        "        return GameMeta.OUTCOMES['one'] if self.check_win() == GameMeta.PLAYERS['one'] else GameMeta.OUTCOMES['two']\n",
        "\n",
        "    def print(self):\n",
        "        print('=============================')\n",
        "\n",
        "        for row in range(GameMeta.ROWS):\n",
        "            for col in range(GameMeta.COLS):\n",
        "                print('| {} '.format('X' if self.board[row][col] == 1 else 'O' if self.board[row][col] == 2 else ' '), end='')\n",
        "            print('|')\n",
        "\n",
        "        print('=============================')"
      ]
    },
    {
      "cell_type": "markdown",
      "metadata": {
        "id": "2pzZ-PHzHWUO"
      },
      "source": [
        "# Selection phase\n",
        "### To do: Calculate the Exploration term"
      ]
    },
    {
      "cell_type": "code",
      "execution_count": 34,
      "metadata": {
        "id": "-XyfsAQGG4JC"
      },
      "outputs": [],
      "source": [
        "import math\n",
        "\n",
        "class Node:\n",
        "    def __init__(self, move, parent):\n",
        "        # Initialize a Node object with a specific move and its parent node.\n",
        "        self.move = move\n",
        "        self.parent = parent\n",
        "        self.N = 0  # Number of visits to this node.\n",
        "        self.Q = 0  # Total reward obtained from this node.\n",
        "        self.children = {}  # Dictionary to store child nodes with their moves as keys.\n",
        "        self.outcome = GameMeta.PLAYERS['none']  # Current game outcome, initialized to 'none'.\n",
        "\n",
        "    def add_children(self, children: dict) -> None:\n",
        "        \"\"\"\n",
        "        Add child nodes to the current node.\n",
        "\n",
        "        Args:\n",
        "            children (dict): Dictionary containing child nodes with their moves as keys.\n",
        "        \"\"\"\n",
        "        for child in children:\n",
        "            self.children[child.move] = child\n",
        "\n",
        "    def value(self, explore: float = MCTSMeta.EXPLORATION):\n",
        "        \"\"\"\n",
        "        Calculate the value of the node, balancing exploration and exploitation.\n",
        "\n",
        "        Args:\n",
        "            explore (float): Exploration parameter controlling the balance between exploration and exploitation.\n",
        "\n",
        "        Returns:\n",
        "            float: Value of the node.\n",
        "        \"\"\"\n",
        "        if self.N == 0:\n",
        "            # If the node has not been visited, prioritize it for exploration.\n",
        "            return 0 if explore == 0 else GameMeta.INF\n",
        "        else:\n",
        "            # Calculate the value using UCB1 formula (Upper Confidence Bound 1).\n",
        "            exploration_term = explore * math.sqrt( math.log(self.parent.N) / self.N)\n",
        "            return self.Q / self.N + exploration_term"
      ]
    },
    {
      "cell_type": "code",
      "execution_count": 35,
      "metadata": {
        "id": "jPF0VD9GHdyU"
      },
      "outputs": [],
      "source": [
        "import random\n",
        "import time\n",
        "from copy import deepcopy\n",
        "\n",
        "class MCTS:\n",
        "    def __init__(self, state=ConnectState()):\n",
        "        \"\"\"\n",
        "        Initialize the MCTS object with the given initial game state.\n",
        "\n",
        "        Args:\n",
        "            state (ConnectState): Initial game state (default is an empty Connect 4 state).\n",
        "        \"\"\"\n",
        "        self.root_state = deepcopy(state)  # Deep copy of the initial game state.\n",
        "        self.root = Node(None, None)  # Create the root node for the search tree.\n",
        "        self.run_time = 0  # Variable to store the total runtime of the MCTS algorithm.\n",
        "        self.node_count = 0  # Variable to count the total number of nodes created during the search.\n",
        "        self.num_rollouts = 0  # Variable to count the total number of rollouts performed during the search.\n",
        "\n",
        "    def select_node(self) -> tuple:\n",
        "        \"\"\"\n",
        "        Select a node in the search tree for exploration using the MCTS algorithm.\n",
        "\n",
        "        Returns:\n",
        "            tuple: Selected node and the corresponding game state.\n",
        "        \"\"\"\n",
        "        node = self.root  # Start the selection process from the root node.\n",
        "        state = deepcopy(self.root_state)  # Create a deep copy of the current game state for simulation.\n",
        "\n",
        "        while len(node.children) != 0:\n",
        "            children = node.children.values()\n",
        "            max_value = max(children, key=lambda n: n.value()).value()\n",
        "            max_nodes = [n for n in children if n.value() == max_value]\n",
        "\n",
        "            node = random.choice(max_nodes)  # Randomly choose a child node based on UCT values.\n",
        "            state.move(node.move)  # Apply the corresponding move to the game state.\n",
        "\n",
        "            if node.N == 0:\n",
        "                # If the node has not been visited, return it for expansion.\n",
        "                return node, state\n",
        "\n",
        "        if self.expand(node, state):\n",
        "            # If the node is not a terminal state, expand it and select a child node randomly.\n",
        "            node = random.choice(list(node.children.values()))\n",
        "            state.move(node.move)\n",
        "\n",
        "        return node, state\n",
        "\n",
        "\n",
        "    def move(self, move):\n",
        "        \"\"\"\n",
        "        Update the MCTS tree and game state based on the chosen move.\n",
        "\n",
        "        Args:\n",
        "            move (int): Move to be played.\n",
        "        \"\"\"\n",
        "        if move in self.root.children:\n",
        "            self.root_state.move(move)  # Apply the chosen move to the game state.\n",
        "            self.root = self.root.children[move]  # Update the root node to the corresponding child node.\n",
        "            return\n",
        "\n",
        "        self.root_state.move(move)  # Apply the chosen move to the game state.\n",
        "        self.root = Node(None, None)  # Reset the root node to a new node corresponding to the updated game state.\n",
        "\n",
        "    def statistics(self) -> tuple:\n",
        "        \"\"\"\n",
        "        Get the statistics of the MCTS search.\n",
        "\n",
        "        Returns:\n",
        "            tuple: Number of rollouts performed and total runtime of the search.\n",
        "        \"\"\"\n",
        "        return self.num_rollouts, self.run_time  #"
      ]
    },
    {
      "cell_type": "markdown",
      "metadata": {
        "id": "HTs5W43_JpAi"
      },
      "source": [
        "# Expansion phase"
      ]
    },
    {
      "cell_type": "code",
      "execution_count": 36,
      "metadata": {
        "id": "t_gR8AuhJrsk"
      },
      "outputs": [],
      "source": [
        "def expand(self, parent: Node, state: ConnectState) -> bool:\n",
        "        \"\"\"\n",
        "        Expand the given node by adding child nodes corresponding to legal moves.\n",
        "\n",
        "        Args:\n",
        "            parent (Node): Parent node to be expanded.\n",
        "            state (ConnectState): Current game state corresponding to the parent node.\n",
        "\n",
        "        Returns:\n",
        "            bool: True if the node is expanded, False if it's a terminal state.\n",
        "        \"\"\"\n",
        "        if state.game_over():\n",
        "            return False  # If the game is over, do not expand further.\n",
        "\n",
        "        children = [Node(move, parent) for move in state.get_legal_moves()]  # Create child nodes for legal moves.\n",
        "        parent.add_children(children)  # Add the child nodes to the parent node.\n",
        "        return True  # Node is successfully expanded.\n",
        "\n",
        "MCTS.expand = expand"
      ]
    },
    {
      "cell_type": "markdown",
      "metadata": {
        "id": "dQc2W6_CJ09M"
      },
      "source": [
        "# Rollout/Simulation Phase"
      ]
    },
    {
      "cell_type": "code",
      "execution_count": 37,
      "metadata": {
        "id": "mS-bjExqJ7_f"
      },
      "outputs": [],
      "source": [
        "def roll_out(self, state: ConnectState) -> int:\n",
        "        \"\"\"\n",
        "        Perform a random rollout from the given game state until a terminal state is reached.\n",
        "\n",
        "        Args:\n",
        "            state (ConnectState): Current game state for the rollout.\n",
        "\n",
        "        Returns:\n",
        "            int: Outcome of the rollout (-1 for player 1 win, 1 for player 2 win, 0 for draw).\n",
        "        \"\"\"\n",
        "        while not state.game_over():\n",
        "            state.move(random.choice(state.get_legal_moves()))  # Choose a random move and apply it to the game state.\n",
        "\n",
        "        return state.get_outcome()  # Return the outcome of the game.\n",
        "MCTS.roll_out = roll_out"
      ]
    },
    {
      "cell_type": "markdown",
      "metadata": {
        "id": "LKHeCQG9KGzo"
      },
      "source": [
        "# Backpropagation Phase\n",
        "### To do: Update the values"
      ]
    },
    {
      "cell_type": "code",
      "execution_count": 38,
      "metadata": {
        "id": "Tk-Y0oxQKMLL"
      },
      "outputs": [],
      "source": [
        "def back_propagate(self, node: Node, turn: int, outcome: int) -> None:\n",
        "        \"\"\"\n",
        "        Backpropagate the outcome of a rollout up the tree, updating node statistics.\n",
        "\n",
        "        Args:\n",
        "            node (Node): Node to start the backpropagation.\n",
        "            turn (int): Player to whom the outcome is favorable (-1 for player 1, 1 for player 2).\n",
        "            outcome (int): Outcome of the game (-1, 0, or 1).\n",
        "        \"\"\"\n",
        "        reward = 0 if outcome == turn else 1  # Calculate reward based on the current player's perspective.\n",
        "\n",
        "        while node is not None:\n",
        "            node.N += 1  # Increment the visit count of the node.\n",
        "            node.Q += self.value()  # Update the total reward of the node.\n",
        "            node = node.parent  # Move to the parent node for further backpropagation.\n",
        "            if outcome == GameMeta.OUTCOMES['draw']:\n",
        "                reward = 0  # If the game is a draw, set reward to 0.\n",
        "            else:\n",
        "                reward = 1 - reward  # Switch reward for the opponent player.\n",
        "MCTS.back_propagate = back_propagate"
      ]
    },
    {
      "cell_type": "markdown",
      "metadata": {
        "id": "IKrbMB_UKYdD"
      },
      "source": [
        "# Combining the Four Phases\n",
        "### To do: find outcome from rollout"
      ]
    },
    {
      "cell_type": "code",
      "execution_count": 39,
      "metadata": {
        "id": "B--KoWvgKpwP"
      },
      "outputs": [],
      "source": [
        "def search(self: MCTS, time_limit: int):\n",
        "        \"\"\"\n",
        "        Perform the MCTS search for a specified time limit.\n",
        "\n",
        "        Args:\n",
        "            time_limit (int): Time limit for the MCTS search in seconds.\n",
        "        \"\"\"\n",
        "        start_time = time.process_time()  # Record the start time of the search.\n",
        "\n",
        "        num_rollouts = 0  # Initialize the number of rollouts performed.\n",
        "        while time.process_time() - start_time < time_limit:\n",
        "            node, state = self.select_node()  # Select a node for exploration.\n",
        "            outcome = self.num_rollouts()  # Perform a rollout from the selected node.\n",
        "            self.back_propagate(node, state.to_play, outcome)  # Backpropagate the rollout outcome.\n",
        "            num_rollouts += 1  # Increment the rollout count.\n",
        "\n",
        "        run_time = time.process_time() - start_time  # Calculate the total runtime of the search.\n",
        "        self.run_time = run_time  # Update the run_time variable.\n",
        "        self.num_rollouts = num_rollouts  # Update the num_rollouts variable.\n",
        "\n",
        "MCTS.search = search"
      ]
    },
    {
      "cell_type": "markdown",
      "metadata": {
        "id": "yalS7l3hK1LU"
      },
      "source": [
        "# Choosing Best Action"
      ]
    },
    {
      "cell_type": "code",
      "execution_count": 40,
      "metadata": {
        "id": "Xc8Z59ZeK2mp"
      },
      "outputs": [],
      "source": [
        "def best_move(self: MCTS):\n",
        "        \"\"\"\n",
        "        Determine the best move to play based on the MCTS search results.\n",
        "\n",
        "        Returns:\n",
        "            int: Best move to play.\n",
        "        \"\"\"\n",
        "        if self.root_state.game_over():\n",
        "            return -1  # If the game is over, no valid move can be made.\n",
        "\n",
        "        max_value = max(self.root.children.values(), key=lambda n: n.N).N  # Find the maximum visit count among child nodes.\n",
        "        max_nodes = [n for n in self.root.children.values() if n.N == max_value]  # Find nodes with the maximum visit count.\n",
        "        best_child = random.choice(max_nodes)  # Randomly choose one of the nodes with the maximum visit count as the best move.\n",
        "\n",
        "        return best_child.move  # Return the move corresponding to the best child node.\n",
        "\n",
        "MCTS.best_move = best_move"
      ]
    },
    {
      "cell_type": "markdown",
      "metadata": {
        "id": "PSpjNM_XLTYx"
      },
      "source": [
        "# Playing with the agent"
      ]
    },
    {
      "cell_type": "code",
      "execution_count": 41,
      "metadata": {
        "colab": {
          "base_uri": "https://localhost:8080/"
        },
        "id": "CqUdAZi2LVfm",
        "outputId": "2d11715b-56de-4f6d-ef18-61e5a5472a7e"
      },
      "outputs": [
        {
          "name": "stdout",
          "output_type": "stream",
          "text": [
            "Current state:\n",
            "=============================\n",
            "|   |   |   |   |   |   |   |\n",
            "|   |   |   |   |   |   |   |\n",
            "|   |   |   |   |   |   |   |\n",
            "|   |   |   |   |   |   |   |\n",
            "|   |   |   |   |   |   |   |\n",
            "|   |   |   |   |   |   |   |\n",
            "=============================\n",
            "=============================\n",
            "|   |   |   |   |   |   |   |\n",
            "|   |   |   |   |   |   |   |\n",
            "|   |   |   |   |   |   |   |\n",
            "|   |   |   |   |   |   |   |\n",
            "|   |   |   |   |   |   |   |\n",
            "| X |   |   |   |   |   |   |\n",
            "=============================\n",
            "Thinking...\n"
          ]
        },
        {
          "ename": "UnboundLocalError",
          "evalue": "cannot access local variable 'outcome' where it is not associated with a value",
          "output_type": "error",
          "traceback": [
            "\u001b[1;31m---------------------------------------------------------------------------\u001b[0m",
            "\u001b[1;31mUnboundLocalError\u001b[0m                         Traceback (most recent call last)",
            "\u001b[1;32mc:\\python-scripts\\MCTS_connect4.ipynb Cell 20\u001b[0m line \u001b[0;36m4\n\u001b[0;32m     <a href='vscode-notebook-cell:/c%3A/python-scripts/MCTS_connect4.ipynb#X25sZmlsZQ%3D%3D?line=43'>44</a>\u001b[0m             \u001b[39mbreak\u001b[39;00m\n\u001b[0;32m     <a href='vscode-notebook-cell:/c%3A/python-scripts/MCTS_connect4.ipynb#X25sZmlsZQ%3D%3D?line=46'>47</a>\u001b[0m \u001b[39mif\u001b[39;00m \u001b[39m__name__\u001b[39m \u001b[39m==\u001b[39m \u001b[39m\"\u001b[39m\u001b[39m__main__\u001b[39m\u001b[39m\"\u001b[39m:\n\u001b[1;32m---> <a href='vscode-notebook-cell:/c%3A/python-scripts/MCTS_connect4.ipynb#X25sZmlsZQ%3D%3D?line=47'>48</a>\u001b[0m     play()\n",
            "\u001b[1;32mc:\\python-scripts\\MCTS_connect4.ipynb Cell 20\u001b[0m line \u001b[0;36m3\n\u001b[0;32m     <a href='vscode-notebook-cell:/c%3A/python-scripts/MCTS_connect4.ipynb#X25sZmlsZQ%3D%3D?line=26'>27</a>\u001b[0m     \u001b[39mbreak\u001b[39;00m\n\u001b[0;32m     <a href='vscode-notebook-cell:/c%3A/python-scripts/MCTS_connect4.ipynb#X25sZmlsZQ%3D%3D?line=28'>29</a>\u001b[0m \u001b[39mprint\u001b[39m(\u001b[39m\"\u001b[39m\u001b[39mThinking...\u001b[39m\u001b[39m\"\u001b[39m)\n\u001b[1;32m---> <a href='vscode-notebook-cell:/c%3A/python-scripts/MCTS_connect4.ipynb#X25sZmlsZQ%3D%3D?line=30'>31</a>\u001b[0m mcts\u001b[39m.\u001b[39;49msearch(\u001b[39m5\u001b[39;49m)\n\u001b[0;32m     <a href='vscode-notebook-cell:/c%3A/python-scripts/MCTS_connect4.ipynb#X25sZmlsZQ%3D%3D?line=31'>32</a>\u001b[0m num_rollouts, run_time \u001b[39m=\u001b[39m mcts\u001b[39m.\u001b[39mstatistics()\n\u001b[0;32m     <a href='vscode-notebook-cell:/c%3A/python-scripts/MCTS_connect4.ipynb#X25sZmlsZQ%3D%3D?line=32'>33</a>\u001b[0m \u001b[39mprint\u001b[39m(\u001b[39m\"\u001b[39m\u001b[39mStatistics: \u001b[39m\u001b[39m\"\u001b[39m, num_rollouts, \u001b[39m\"\u001b[39m\u001b[39mrollouts in\u001b[39m\u001b[39m\"\u001b[39m, run_time, \u001b[39m\"\u001b[39m\u001b[39mseconds\u001b[39m\u001b[39m\"\u001b[39m)\n",
            "\u001b[1;32mc:\\python-scripts\\MCTS_connect4.ipynb Cell 20\u001b[0m line \u001b[0;36m1\n\u001b[0;32m     <a href='vscode-notebook-cell:/c%3A/python-scripts/MCTS_connect4.ipynb#X25sZmlsZQ%3D%3D?line=10'>11</a>\u001b[0m \u001b[39mwhile\u001b[39;00m time\u001b[39m.\u001b[39mprocess_time() \u001b[39m-\u001b[39m start_time \u001b[39m<\u001b[39m time_limit:\n\u001b[0;32m     <a href='vscode-notebook-cell:/c%3A/python-scripts/MCTS_connect4.ipynb#X25sZmlsZQ%3D%3D?line=11'>12</a>\u001b[0m     node, state \u001b[39m=\u001b[39m \u001b[39mself\u001b[39m\u001b[39m.\u001b[39mselect_node()  \u001b[39m# Select a node for exploration.\u001b[39;00m\n\u001b[1;32m---> <a href='vscode-notebook-cell:/c%3A/python-scripts/MCTS_connect4.ipynb#X25sZmlsZQ%3D%3D?line=12'>13</a>\u001b[0m     outcome \u001b[39m=\u001b[39m \u001b[39mself\u001b[39m\u001b[39m.\u001b[39mback_propagate(node, state\u001b[39m.\u001b[39mto_play, outcome)  \u001b[39m# Backpropagate the rollout outcome.\u001b[39;00m\n\u001b[0;32m     <a href='vscode-notebook-cell:/c%3A/python-scripts/MCTS_connect4.ipynb#X25sZmlsZQ%3D%3D?line=13'>14</a>\u001b[0m     num_rollouts \u001b[39m+\u001b[39m\u001b[39m=\u001b[39m \u001b[39m1\u001b[39m  \u001b[39m# Increment the rollout count.\u001b[39;00m\n\u001b[0;32m     <a href='vscode-notebook-cell:/c%3A/python-scripts/MCTS_connect4.ipynb#X25sZmlsZQ%3D%3D?line=15'>16</a>\u001b[0m run_time \u001b[39m=\u001b[39m time\u001b[39m.\u001b[39mprocess_time() \u001b[39m-\u001b[39m start_time  \u001b[39m# Calculate the total runtime of the search.\u001b[39;00m\n",
            "\u001b[1;31mUnboundLocalError\u001b[0m: cannot access local variable 'outcome' where it is not associated with a value"
          ]
        }
      ],
      "source": [
        "import time\n",
        "def play():\n",
        "    \"\"\"\n",
        "    Play the game with MCTS agent\n",
        "    \"\"\"\n",
        "\n",
        "    state = ConnectState()\n",
        "    mcts = MCTS(state)\n",
        "    player_name = input(\"Please enter your name: \")\n",
        "\n",
        "    while not state.game_over():\n",
        "        print(\"Current state:\")\n",
        "        state.print()\n",
        "\n",
        "        user_move = int(input(\"Enter a move: \"))\n",
        "        while user_move not in state.get_legal_moves():\n",
        "            print(\"Illegal move\")\n",
        "            user_move = int(input(\"Enter a move: \"))\n",
        "\n",
        "        state.move(user_move)\n",
        "        mcts.move(user_move)\n",
        "\n",
        "        state.print()\n",
        "\n",
        "        if state.game_over():\n",
        "            print(f\"Congratulations you won! {player_name}\")\n",
        "            break\n",
        "\n",
        "        print(\"Thinking...\")\n",
        "\n",
        "        mcts.search(5)\n",
        "        num_rollouts, run_time = mcts.statistics()\n",
        "        print(\"Statistics: \", num_rollouts, \"rollouts in\", run_time, \"seconds\")\n",
        "        move = mcts.best_move()\n",
        "\n",
        "        print(\"MCTS chose move: \", move)\n",
        "\n",
        "        state.move(move)\n",
        "        mcts.move(move)\n",
        "\n",
        "        if state.game_over():\n",
        "            print(f\"MCTS won! Better luck next time {player_name}\")\n",
        "            state.print()\n",
        "            break\n",
        "\n",
        "\n",
        "if __name__ == \"__main__\":\n",
        "    play()"
      ]
    }
  ],
  "metadata": {
    "colab": {
      "provenance": []
    },
    "kernelspec": {
      "display_name": "Python 3",
      "name": "python3"
    },
    "language_info": {
      "codemirror_mode": {
        "name": "ipython",
        "version": 3
      },
      "file_extension": ".py",
      "mimetype": "text/x-python",
      "name": "python",
      "nbconvert_exporter": "python",
      "pygments_lexer": "ipython3",
      "version": "3.11.4"
    }
  },
  "nbformat": 4,
  "nbformat_minor": 0
}
